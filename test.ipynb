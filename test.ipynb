{
 "cells": [
  {
   "cell_type": "code",
   "execution_count": 1,
   "metadata": {},
   "outputs": [],
   "source": [
    "import requests\n",
    "from bs4 import BeautifulSoup\n",
    "\n",
    "# 目标网页的URL\n",
    "url = 'https://moodle.uni-due.de/user/index.php?id=48250'  # 替换为实际的网址\n",
    "\n",
    "# 发送HTTP请求获取网页内容\n",
    "response = requests.get(url)\n",
    "if response.status_code == 200:\n",
    "    # 使用BeautifulSoup解析HTML内容\n",
    "    soup = BeautifulSoup(response.content, 'html.parser')\n",
    "    \n",
    "    # 查找所有<td id='user-index-participants-48250_r0_c1'>元素\n",
    "    td_elements = soup.find_all('td', id=lambda x: x and x.startswith('user-index-participants-48250_r0_c1'))\n",
    "    \n",
    "    # 遍历所有找到的元素，并选择末尾的最后一位数字是样本序号的元素\n",
    "    for td in td_elements:\n",
    "        text = td.get_text(strip=True)\n",
    "        if text and text[-1].isdigit():\n",
    "            print(text)\n",
    "else:\n",
    "    print(f\"无法获取网页内容，状态码: {response.status_code}\")"
   ]
  },
  {
   "cell_type": "code",
   "execution_count": 2,
   "metadata": {},
   "outputs": [
    {
     "data": {
      "text/plain": [
       "<Response [200]>"
      ]
     },
     "execution_count": 2,
     "metadata": {},
     "output_type": "execute_result"
    }
   ],
   "source": [
    "response"
   ]
  },
  {
   "cell_type": "code",
   "execution_count": 3,
   "metadata": {},
   "outputs": [
    {
     "data": {
      "text/plain": [
       "[]"
      ]
     },
     "execution_count": 3,
     "metadata": {},
     "output_type": "execute_result"
    }
   ],
   "source": [
    "td_elements"
   ]
  },
  {
   "cell_type": "code",
   "execution_count": null,
   "metadata": {},
   "outputs": [],
   "source": []
  }
 ],
 "metadata": {
  "kernelspec": {
   "display_name": "Python 3",
   "language": "python",
   "name": "python3"
  },
  "language_info": {
   "codemirror_mode": {
    "name": "ipython",
    "version": 3
   },
   "file_extension": ".py",
   "mimetype": "text/x-python",
   "name": "python",
   "nbconvert_exporter": "python",
   "pygments_lexer": "ipython3",
   "version": "3.12.7"
  }
 },
 "nbformat": 4,
 "nbformat_minor": 2
}
